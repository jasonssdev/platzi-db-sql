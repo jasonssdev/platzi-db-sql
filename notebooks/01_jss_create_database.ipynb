{
 "cells": [
  {
   "cell_type": "code",
   "execution_count": 1,
   "metadata": {},
   "outputs": [],
   "source": [
    "import sqlite3\n",
    "import os"
   ]
  },
  {
   "cell_type": "code",
   "execution_count": 2,
   "metadata": {},
   "outputs": [],
   "source": [
    "db_path = os.path.join(\"..\", \"db\", \"database.db\")\n",
    "conn = sqlite3.connect(db_path)\n",
    "cursor = conn.cursor()"
   ]
  },
  {
   "cell_type": "code",
   "execution_count": 3,
   "metadata": {},
   "outputs": [],
   "source": [
    "create_students_table = \"\"\"\n",
    "CREATE TABLE STUDENTS (\n",
    "    STUDENT_ID INTEGER PRIMARY KEY,\n",
    "    FIRST_NAME VARCHAR(50),\n",
    "    LAST_NAME VARCHAR(50),\n",
    "    AGE INTEGER,\n",
    "    EMAIL VARCHAR(50),\n",
    "    LOAD_DATE TIMESTAMP DEFAULT CURRENT_TIMESTAMP,\n",
    "    UPDATE_DATE TIMESTAMP DEFAULT CURRENT_TIMESTAMP\n",
    ");\n",
    "\"\"\""
   ]
  },
  {
   "cell_type": "code",
   "execution_count": 4,
   "metadata": {},
   "outputs": [],
   "source": [
    "create_instructors_table = \"\"\"\n",
    "CREATE TABLE INSTRUCTORS (\n",
    "    INSTRUCTOR_ID INT PRIMARY KEY,\n",
    "    FIRST_NAME VARCHAR(50),\n",
    "    LAST_NAME VARCHAR(50),\n",
    "    EMAIL VARCHAR(100),\n",
    "    LOAD_DATE TIMESTAMP DEFAULT CURRENT_TIMESTAMP,\n",
    "    UPDATE_DATE TIMESTAMP DEFAULT CURRENT_TIMESTAMP\n",
    ");\n",
    "\"\"\""
   ]
  },
  {
   "cell_type": "code",
   "execution_count": 11,
   "metadata": {},
   "outputs": [],
   "source": [
    "create_courses_table = \"\"\"\n",
    "CREATE TABLE COURSES (\n",
    "    COURSE_ID INT PRIMARY KEY,\n",
    "    COURSE_NAME VARCHAR(100),\n",
    "    COURSE_DESCRIPTION TEXT,\n",
    "    INSTRUCTOR_ID INT,\n",
    "    DURATION_HOURS INT,\n",
    "    LOAD_DATE TIMESTAMP DEFAULT CURRENT_TIMESTAMP,\n",
    "    UPDATE_DATE TIMESTAMP DEFAULT CURRENT_TIMESTAMP,\n",
    "    FOREIGN KEY (INSTRUCTOR_ID) REFERENCES INSTRUCTORS(INSTRUCTOR_ID)\n",
    ");\n",
    "\"\"\""
   ]
  },
  {
   "cell_type": "code",
   "execution_count": 6,
   "metadata": {},
   "outputs": [],
   "source": [
    "create_table_students_courses = \"\"\"\n",
    "CREATE TABLE STUDENTS_COURSES (\n",
    "    STUDENTS_COURSES_ID INT PRIMARY KEY,  \n",
    "    STUDENT_ID INT,\n",
    "    COURSE_ID INT,\n",
    "    ENROLLMENT_DATE TIMESTAMP DEFAULT CURRENT_TIMESTAMP,\n",
    "    LOAD_DATE TIMESTAMP DEFAULT CURRENT_TIMESTAMP,\n",
    "    UPDATE_DATE TIMESTAMP DEFAULT CURRENT_TIMESTAMP,\n",
    "    FOREIGN KEY (STUDENT_ID) REFERENCES STUDENTS(STUDENT_ID),\n",
    "    FOREIGN KEY (COURSE_ID) REFERENCES COURSES(COURSE_ID)\n",
    ");\n",
    "\"\"\""
   ]
  },
  {
   "cell_type": "code",
   "execution_count": 14,
   "metadata": {},
   "outputs": [
    {
     "data": {
      "text/plain": [
       "<sqlite3.Cursor at 0x1053b01c0>"
      ]
     },
     "execution_count": 14,
     "metadata": {},
     "output_type": "execute_result"
    }
   ],
   "source": [
    "cursor.execute(\"DROP TABLE IF EXISTS STUDENTS_COURSES;\")\n",
    "cursor.execute(\"DROP TABLE IF EXISTS COURSES;\")\n",
    "cursor.execute(\"DROP TABLE IF EXISTS INSTRUCTORS;\")\n",
    "cursor.execute(\"DROP TABLE IF EXISTS STUDENTS;\")"
   ]
  },
  {
   "cell_type": "code",
   "execution_count": 15,
   "metadata": {},
   "outputs": [
    {
     "data": {
      "text/plain": [
       "<sqlite3.Cursor at 0x1053b01c0>"
      ]
     },
     "execution_count": 15,
     "metadata": {},
     "output_type": "execute_result"
    }
   ],
   "source": [
    "cursor.execute(create_students_table)\n",
    "cursor.execute(create_instructors_table)\n",
    "cursor.execute(create_courses_table)\n",
    "cursor.execute(create_table_students_courses)"
   ]
  },
  {
   "cell_type": "code",
   "execution_count": 17,
   "metadata": {},
   "outputs": [
    {
     "data": {
      "text/plain": [
       "<sqlite3.Cursor at 0x1053b01c0>"
      ]
     },
     "execution_count": 17,
     "metadata": {},
     "output_type": "execute_result"
    }
   ],
   "source": [
    "students_data = [\n",
    "    (1, \"Ana\", \"Gómez\", 21, \"ana@email.com\"),\n",
    "    (2, \"Luis\", \"Pérez\", 22, \"luis@email.com\"),\n",
    "    (3, \"María\", \"Rodríguez\", 20, \"maria@email.com\"),\n",
    "    (4, \"Carlos\", \"Ramírez\", 23, \"carlos@email.com\"),\n",
    "    (5, \"Elena\", \"Torres\", 24, \"elena@email.com\")\n",
    "]\n",
    "\n",
    "cursor.executemany(\"\"\"\n",
    "INSERT INTO STUDENTS (STUDENT_ID, FIRST_NAME, LAST_NAME, AGE, EMAIL)\n",
    "VALUES (?, ?, ?, ?, ?)\n",
    "\"\"\", students_data)"
   ]
  },
  {
   "cell_type": "code",
   "execution_count": 18,
   "metadata": {},
   "outputs": [
    {
     "data": {
      "text/plain": [
       "<sqlite3.Cursor at 0x1053b01c0>"
      ]
     },
     "execution_count": 18,
     "metadata": {},
     "output_type": "execute_result"
    }
   ],
   "source": [
    "instructors_data = [\n",
    "    (1, \"Miguel\", \"Herrera\", \"miguel@email.com\"),\n",
    "    (2, \"Laura\", \"Sánchez\", \"laura@email.com\"),\n",
    "    (3, \"Pedro\", \"López\", \"pedro@email.com\"),\n",
    "    (4, \"Sofía\", \"Díaz\", \"sofia@email.com\"),\n",
    "    (5, \"Andrés\", \"Martínez\", \"andres@email.com\")\n",
    "]\n",
    "\n",
    "cursor.executemany(\"\"\"\n",
    "INSERT INTO INSTRUCTORS (INSTRUCTOR_ID, FIRST_NAME, LAST_NAME, EMAIL)\n",
    "VALUES (?, ?, ?, ?)\n",
    "\"\"\", instructors_data)"
   ]
  },
  {
   "cell_type": "code",
   "execution_count": 19,
   "metadata": {},
   "outputs": [
    {
     "data": {
      "text/plain": [
       "<sqlite3.Cursor at 0x1053b01c0>"
      ]
     },
     "execution_count": 19,
     "metadata": {},
     "output_type": "execute_result"
    }
   ],
   "source": [
    "courses_data = [\n",
    "    (1, \"Python Básico\", \"Introducción a la programación con Python\", 1, 20),\n",
    "    (2, \"SQL Intermedio\", \"Consultas y joins en bases de datos\", 2, 15),\n",
    "    (3, \"Machine Learning\", \"Modelos supervisados y no supervisados\", 3, 30),\n",
    "    (4, \"Visualización de Datos\", \"Gráficos con matplotlib y seaborn\", 4, 10),\n",
    "    (5, \"ETL con Python\", \"Procesos de extracción, transformación y carga\", 5, 25)\n",
    "]\n",
    "\n",
    "cursor.executemany(\"\"\"\n",
    "INSERT INTO COURSES (COURSE_ID, COURSE_NAME, COURSE_DESCRIPTION, INSTRUCTOR_ID, DURATION_HOURS)\n",
    "VALUES (?, ?, ?, ?, ?)\n",
    "\"\"\", courses_data)"
   ]
  },
  {
   "cell_type": "code",
   "execution_count": 20,
   "metadata": {},
   "outputs": [
    {
     "data": {
      "text/plain": [
       "<sqlite3.Cursor at 0x1053b01c0>"
      ]
     },
     "execution_count": 20,
     "metadata": {},
     "output_type": "execute_result"
    }
   ],
   "source": [
    "students_courses_data = [\n",
    "    (1, 1, 1),  # Ana en Python\n",
    "    (2, 2, 2),  # Luis en SQL\n",
    "    (3, 3, 1),  # María en Python\n",
    "    (4, 4, 3),  # Carlos en Machine Learning\n",
    "    (5, 5, 4)   # Elena en Visualización\n",
    "]\n",
    "\n",
    "cursor.executemany(\"\"\"\n",
    "INSERT INTO STUDENTS_COURSES (STUDENTS_COURSES_ID, STUDENT_ID, COURSE_ID)\n",
    "VALUES (?, ?, ?)\n",
    "\"\"\", students_courses_data)"
   ]
  },
  {
   "cell_type": "code",
   "execution_count": 21,
   "metadata": {},
   "outputs": [
    {
     "name": "stdout",
     "output_type": "stream",
     "text": [
      "\n",
      "Tabla STUDENTS:\n",
      "(1, 'Ana', 'Gómez', 21, 'ana@email.com', '2025-03-23 00:07:08', '2025-03-23 00:07:08')\n",
      "(2, 'Luis', 'Pérez', 22, 'luis@email.com', '2025-03-23 00:07:08', '2025-03-23 00:07:08')\n",
      "(3, 'María', 'Rodríguez', 20, 'maria@email.com', '2025-03-23 00:07:08', '2025-03-23 00:07:08')\n",
      "(4, 'Carlos', 'Ramírez', 23, 'carlos@email.com', '2025-03-23 00:07:08', '2025-03-23 00:07:08')\n",
      "(5, 'Elena', 'Torres', 24, 'elena@email.com', '2025-03-23 00:07:08', '2025-03-23 00:07:08')\n",
      "\n",
      "Tabla INSTRUCTORS:\n",
      "(1, 'Miguel', 'Herrera', 'miguel@email.com', '2025-03-23 00:07:21', '2025-03-23 00:07:21')\n",
      "(2, 'Laura', 'Sánchez', 'laura@email.com', '2025-03-23 00:07:21', '2025-03-23 00:07:21')\n",
      "(3, 'Pedro', 'López', 'pedro@email.com', '2025-03-23 00:07:21', '2025-03-23 00:07:21')\n",
      "(4, 'Sofía', 'Díaz', 'sofia@email.com', '2025-03-23 00:07:21', '2025-03-23 00:07:21')\n",
      "(5, 'Andrés', 'Martínez', 'andres@email.com', '2025-03-23 00:07:21', '2025-03-23 00:07:21')\n",
      "\n",
      "Tabla COURSES:\n",
      "(1, 'Python Básico', 'Introducción a la programación con Python', 1, 20, '2025-03-23 00:07:26', '2025-03-23 00:07:26')\n",
      "(2, 'SQL Intermedio', 'Consultas y joins en bases de datos', 2, 15, '2025-03-23 00:07:26', '2025-03-23 00:07:26')\n",
      "(3, 'Machine Learning', 'Modelos supervisados y no supervisados', 3, 30, '2025-03-23 00:07:26', '2025-03-23 00:07:26')\n",
      "(4, 'Visualización de Datos', 'Gráficos con matplotlib y seaborn', 4, 10, '2025-03-23 00:07:26', '2025-03-23 00:07:26')\n",
      "(5, 'ETL con Python', 'Procesos de extracción, transformación y carga', 5, 25, '2025-03-23 00:07:26', '2025-03-23 00:07:26')\n",
      "\n",
      "Tabla STUDENTS_COURSES:\n",
      "(1, 1, 1, '2025-03-23 00:07:46', '2025-03-23 00:07:46', '2025-03-23 00:07:46')\n",
      "(2, 2, 2, '2025-03-23 00:07:46', '2025-03-23 00:07:46', '2025-03-23 00:07:46')\n",
      "(3, 3, 1, '2025-03-23 00:07:46', '2025-03-23 00:07:46', '2025-03-23 00:07:46')\n",
      "(4, 4, 3, '2025-03-23 00:07:46', '2025-03-23 00:07:46', '2025-03-23 00:07:46')\n",
      "(5, 5, 4, '2025-03-23 00:07:46', '2025-03-23 00:07:46', '2025-03-23 00:07:46')\n"
     ]
    }
   ],
   "source": [
    "for table in [\"STUDENTS\", \"INSTRUCTORS\", \"COURSES\", \"STUDENTS_COURSES\"]:\n",
    "    print(f\"\\nTabla {table}:\")\n",
    "    cursor.execute(f\"SELECT * FROM {table};\")\n",
    "    for row in cursor.fetchall():\n",
    "        print(row)"
   ]
  },
  {
   "cell_type": "code",
   "execution_count": 22,
   "metadata": {},
   "outputs": [],
   "source": [
    "conn.commit()"
   ]
  },
  {
   "cell_type": "code",
   "execution_count": null,
   "metadata": {},
   "outputs": [],
   "source": []
  }
 ],
 "metadata": {
  "kernelspec": {
   "display_name": "da-py3.12",
   "language": "python",
   "name": "python3"
  },
  "language_info": {
   "codemirror_mode": {
    "name": "ipython",
    "version": 3
   },
   "file_extension": ".py",
   "mimetype": "text/x-python",
   "name": "python",
   "nbconvert_exporter": "python",
   "pygments_lexer": "ipython3",
   "version": "3.12.2"
  }
 },
 "nbformat": 4,
 "nbformat_minor": 2
}
