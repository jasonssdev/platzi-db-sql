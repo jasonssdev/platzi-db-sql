{
 "cells": [
  {
   "cell_type": "code",
   "execution_count": 1,
   "metadata": {},
   "outputs": [],
   "source": [
    "import sqlite3\n",
    "import os"
   ]
  },
  {
   "cell_type": "code",
   "execution_count": 2,
   "metadata": {},
   "outputs": [],
   "source": [
    "db_path = os.path.join(\"..\", \"db\", \"database.db\")\n",
    "conn = sqlite3.connect(db_path)\n",
    "cursor = conn.cursor()"
   ]
  },
  {
   "cell_type": "code",
   "execution_count": 5,
   "metadata": {},
   "outputs": [],
   "source": [
    "query_select_courses = \"\"\"\n",
    "SELECT * FROM COURSES\n",
    "ORDER BY COURSE_NAME ASC;\n",
    "\"\"\""
   ]
  },
  {
   "cell_type": "code",
   "execution_count": null,
   "metadata": {},
   "outputs": [
    {
     "name": "stdout",
     "output_type": "stream",
     "text": [
      "(5, 'ETL con Python', 'Procesos de extracción, transformación y carga', 5, 25, '2025-03-23 00:07:26', '2025-03-23 00:07:26')\n",
      "(3, 'Machine Learning', 'Modelos supervisados y no supervisados', 3, 30, '2025-03-23 00:07:26', '2025-03-23 00:07:26')\n",
      "(1, 'Python Básico', 'Introducción a la programación con Python', 1, 20, '2025-03-23 00:07:26', '2025-03-23 00:07:26')\n",
      "(2, 'SQL Intermedio', 'Consultas y joins en bases de datos', 2, 15, '2025-03-23 00:07:26', '2025-03-23 00:07:26')\n",
      "(4, 'Visualización de Datos', 'Gráficos con matplotlib y seaborn', 4, 10, '2025-03-23 00:07:26', '2025-03-23 00:07:26')\n"
     ]
    }
   ],
   "source": [
    "# option 1 - how to print output with fetch\n",
    "cursor.execute(query_select_courses)\n",
    "\n",
    "rows = cursor.fetchall()\n",
    "\n",
    "for row in rows:\n",
    "    print(row)"
   ]
  },
  {
   "cell_type": "code",
   "execution_count": 11,
   "metadata": {},
   "outputs": [
    {
     "data": {
      "text/html": [
       "<div>\n",
       "<style scoped>\n",
       "    .dataframe tbody tr th:only-of-type {\n",
       "        vertical-align: middle;\n",
       "    }\n",
       "\n",
       "    .dataframe tbody tr th {\n",
       "        vertical-align: top;\n",
       "    }\n",
       "\n",
       "    .dataframe thead th {\n",
       "        text-align: right;\n",
       "    }\n",
       "</style>\n",
       "<table border=\"1\" class=\"dataframe\">\n",
       "  <thead>\n",
       "    <tr style=\"text-align: right;\">\n",
       "      <th></th>\n",
       "      <th>COURSE_ID</th>\n",
       "      <th>COURSE_NAME</th>\n",
       "      <th>COURSE_DESCRIPTION</th>\n",
       "      <th>INSTRUCTOR_ID</th>\n",
       "      <th>DURATION_HOURS</th>\n",
       "      <th>LOAD_DATE</th>\n",
       "      <th>UPDATE_DATE</th>\n",
       "    </tr>\n",
       "  </thead>\n",
       "  <tbody>\n",
       "    <tr>\n",
       "      <th>0</th>\n",
       "      <td>5</td>\n",
       "      <td>ETL con Python</td>\n",
       "      <td>Procesos de extracción, transformación y carga</td>\n",
       "      <td>5</td>\n",
       "      <td>25</td>\n",
       "      <td>2025-03-23 00:07:26</td>\n",
       "      <td>2025-03-23 00:07:26</td>\n",
       "    </tr>\n",
       "    <tr>\n",
       "      <th>1</th>\n",
       "      <td>3</td>\n",
       "      <td>Machine Learning</td>\n",
       "      <td>Modelos supervisados y no supervisados</td>\n",
       "      <td>3</td>\n",
       "      <td>30</td>\n",
       "      <td>2025-03-23 00:07:26</td>\n",
       "      <td>2025-03-23 00:07:26</td>\n",
       "    </tr>\n",
       "    <tr>\n",
       "      <th>2</th>\n",
       "      <td>1</td>\n",
       "      <td>Python Básico</td>\n",
       "      <td>Introducción a la programación con Python</td>\n",
       "      <td>1</td>\n",
       "      <td>20</td>\n",
       "      <td>2025-03-23 00:07:26</td>\n",
       "      <td>2025-03-23 00:07:26</td>\n",
       "    </tr>\n",
       "    <tr>\n",
       "      <th>3</th>\n",
       "      <td>2</td>\n",
       "      <td>SQL Intermedio</td>\n",
       "      <td>Consultas y joins en bases de datos</td>\n",
       "      <td>2</td>\n",
       "      <td>15</td>\n",
       "      <td>2025-03-23 00:07:26</td>\n",
       "      <td>2025-03-23 00:07:26</td>\n",
       "    </tr>\n",
       "    <tr>\n",
       "      <th>4</th>\n",
       "      <td>4</td>\n",
       "      <td>Visualización de Datos</td>\n",
       "      <td>Gráficos con matplotlib y seaborn</td>\n",
       "      <td>4</td>\n",
       "      <td>10</td>\n",
       "      <td>2025-03-23 00:07:26</td>\n",
       "      <td>2025-03-23 00:07:26</td>\n",
       "    </tr>\n",
       "  </tbody>\n",
       "</table>\n",
       "</div>"
      ],
      "text/plain": [
       "   COURSE_ID             COURSE_NAME  \\\n",
       "0          5          ETL con Python   \n",
       "1          3        Machine Learning   \n",
       "2          1           Python Básico   \n",
       "3          2          SQL Intermedio   \n",
       "4          4  Visualización de Datos   \n",
       "\n",
       "                               COURSE_DESCRIPTION  INSTRUCTOR_ID  \\\n",
       "0  Procesos de extracción, transformación y carga              5   \n",
       "1          Modelos supervisados y no supervisados              3   \n",
       "2       Introducción a la programación con Python              1   \n",
       "3             Consultas y joins en bases de datos              2   \n",
       "4               Gráficos con matplotlib y seaborn              4   \n",
       "\n",
       "   DURATION_HOURS            LOAD_DATE          UPDATE_DATE  \n",
       "0              25  2025-03-23 00:07:26  2025-03-23 00:07:26  \n",
       "1              30  2025-03-23 00:07:26  2025-03-23 00:07:26  \n",
       "2              20  2025-03-23 00:07:26  2025-03-23 00:07:26  \n",
       "3              15  2025-03-23 00:07:26  2025-03-23 00:07:26  \n",
       "4              10  2025-03-23 00:07:26  2025-03-23 00:07:26  "
      ]
     },
     "execution_count": 11,
     "metadata": {},
     "output_type": "execute_result"
    }
   ],
   "source": [
    "# option 2 - how to print output with pandas\n",
    "import pandas as pd\n",
    "\n",
    "df_courses = pd.read_sql(query_select_courses, conn)\n",
    "df_courses.head()"
   ]
  },
  {
   "cell_type": "code",
   "execution_count": null,
   "metadata": {},
   "outputs": [],
   "source": []
  }
 ],
 "metadata": {
  "kernelspec": {
   "display_name": "da-py3.12",
   "language": "python",
   "name": "python3"
  },
  "language_info": {
   "codemirror_mode": {
    "name": "ipython",
    "version": 3
   },
   "file_extension": ".py",
   "mimetype": "text/x-python",
   "name": "python",
   "nbconvert_exporter": "python",
   "pygments_lexer": "ipython3",
   "version": "3.12.9"
  }
 },
 "nbformat": 4,
 "nbformat_minor": 2
}
